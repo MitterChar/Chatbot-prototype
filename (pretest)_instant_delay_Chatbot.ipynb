{
  "cells": [
    {
      "cell_type": "markdown",
      "metadata": {
        "id": "view-in-github",
        "colab_type": "text"
      },
      "source": [
        "<a href=\"https://colab.research.google.com/github/MitterChar/Chatbot-prototype/blob/main/(pretest)_instant_delay_Chatbot.ipynb\" target=\"_parent\"><img src=\"https://colab.research.google.com/assets/colab-badge.svg\" alt=\"Open In Colab\"/></a>"
      ]
    },
    {
      "cell_type": "markdown",
      "metadata": {
        "id": "yeuA1SaMi9_c"
      },
      "source": [
        "1.randomly fill in questions,\n",
        "2.randomly give the explanation, each explanation 3 times"
      ]
    },
    {
      "cell_type": "markdown",
      "metadata": {
        "id": "vO6a-gTzqg3H"
      },
      "source": [
        "# Install"
      ]
    },
    {
      "cell_type": "code",
      "execution_count": null,
      "metadata": {
        "colab": {
          "base_uri": "https://localhost:8080/"
        },
        "id": "HgQFchybqnfQ",
        "outputId": "922e8fe1-6deb-49f6-c157-40008d0c86f5"
      },
      "outputs": [
        {
          "output_type": "stream",
          "name": "stdout",
          "text": [
            "\u001b[2K     \u001b[90m━━━━━━━━━━━━━━━━━━━━━━━━━━━━━━━━━━━━━━━━\u001b[0m \u001b[32m19.9/19.9 MB\u001b[0m \u001b[31m39.6 MB/s\u001b[0m eta \u001b[36m0:00:00\u001b[0m\n",
            "\u001b[2K     \u001b[90m━━━━━━━━━━━━━━━━━━━━━━━━━━━━━━━━━━━━━━━━\u001b[0m \u001b[32m65.7/65.7 kB\u001b[0m \u001b[31m2.4 MB/s\u001b[0m eta \u001b[36m0:00:00\u001b[0m\n",
            "\u001b[?25h  Preparing metadata (setup.py) ... \u001b[?25l\u001b[?25hdone\n",
            "\u001b[2K     \u001b[90m━━━━━━━━━━━━━━━━━━━━━━━━━━━━━━━━━━━━━━\u001b[0m \u001b[32m294.2/294.2 kB\u001b[0m \u001b[31m12.3 MB/s\u001b[0m eta \u001b[36m0:00:00\u001b[0m\n",
            "\u001b[2K     \u001b[90m━━━━━━━━━━━━━━━━━━━━━━━━━━━━━━━━━━━━━━━━\u001b[0m \u001b[32m75.4/75.4 kB\u001b[0m \u001b[31m4.3 MB/s\u001b[0m eta \u001b[36m0:00:00\u001b[0m\n",
            "\u001b[2K     \u001b[90m━━━━━━━━━━━━━━━━━━━━━━━━━━━━━━━━━━━━━━━\u001b[0m \u001b[32m268.8/268.8 kB\u001b[0m \u001b[31m5.5 MB/s\u001b[0m eta \u001b[36m0:00:00\u001b[0m\n",
            "\u001b[2K     \u001b[90m━━━━━━━━━━━━━━━━━━━━━━━━━━━━━━━━━━━━━━━━\u001b[0m \u001b[32m50.5/50.5 kB\u001b[0m \u001b[31m1.7 MB/s\u001b[0m eta \u001b[36m0:00:00\u001b[0m\n",
            "\u001b[2K     \u001b[90m━━━━━━━━━━━━━━━━━━━━━━━━━━━━━━━━━━━━━━━\u001b[0m \u001b[32m140.3/140.3 kB\u001b[0m \u001b[31m3.5 MB/s\u001b[0m eta \u001b[36m0:00:00\u001b[0m\n",
            "\u001b[2K     \u001b[90m━━━━━━━━━━━━━━━━━━━━━━━━━━━━━━━━━━━━━━━━\u001b[0m \u001b[32m45.7/45.7 kB\u001b[0m \u001b[31m3.3 MB/s\u001b[0m eta \u001b[36m0:00:00\u001b[0m\n",
            "\u001b[2K     \u001b[90m━━━━━━━━━━━━━━━━━━━━━━━━━━━━━━━━━━━━━━━━\u001b[0m \u001b[32m59.5/59.5 kB\u001b[0m \u001b[31m4.2 MB/s\u001b[0m eta \u001b[36m0:00:00\u001b[0m\n",
            "\u001b[2K     \u001b[90m━━━━━━━━━━━━━━━━━━━━━━━━━━━━━━━━━━━━━━━\u001b[0m \u001b[32m129.9/129.9 kB\u001b[0m \u001b[31m8.1 MB/s\u001b[0m eta \u001b[36m0:00:00\u001b[0m\n",
            "\u001b[2K     \u001b[90m━━━━━━━━━━━━━━━━━━━━━━━━━━━━━━━━━━━━━━━━\u001b[0m \u001b[32m50.4/50.4 kB\u001b[0m \u001b[31m3.1 MB/s\u001b[0m eta \u001b[36m0:00:00\u001b[0m\n",
            "\u001b[2K     \u001b[90m━━━━━━━━━━━━━━━━━━━━━━━━━━━━━━━━━━━━━━━━\u001b[0m \u001b[32m46.5/46.5 kB\u001b[0m \u001b[31m2.3 MB/s\u001b[0m eta \u001b[36m0:00:00\u001b[0m\n",
            "\u001b[2K     \u001b[90m━━━━━━━━━━━━━━━━━━━━━━━━━━━━━━━━━━━━━━━━\u001b[0m \u001b[32m43.7/43.7 kB\u001b[0m \u001b[31m1.8 MB/s\u001b[0m eta \u001b[36m0:00:00\u001b[0m\n",
            "\u001b[2K     \u001b[90m━━━━━━━━━━━━━━━━━━━━━━━━━━━━━━━━━━━━━━━━\u001b[0m \u001b[32m41.0/41.0 kB\u001b[0m \u001b[31m3.1 MB/s\u001b[0m eta \u001b[36m0:00:00\u001b[0m\n",
            "\u001b[2K     \u001b[90m━━━━━━━━━━━━━━━━━━━━━━━━━━━━━━━━━━━━━━━━\u001b[0m \u001b[32m41.0/41.0 kB\u001b[0m \u001b[31m3.0 MB/s\u001b[0m eta \u001b[36m0:00:00\u001b[0m\n",
            "\u001b[2K     \u001b[90m━━━━━━━━━━━━━━━━━━━━━━━━━━━━━━━━━━━━━━━━\u001b[0m \u001b[32m87.5/87.5 kB\u001b[0m \u001b[31m8.1 MB/s\u001b[0m eta \u001b[36m0:00:00\u001b[0m\n",
            "\u001b[2K     \u001b[90m━━━━━━━━━━━━━━━━━━━━━━━━━━━━━━━━━━━━━━━━\u001b[0m \u001b[32m84.5/84.5 kB\u001b[0m \u001b[31m5.7 MB/s\u001b[0m eta \u001b[36m0:00:00\u001b[0m\n",
            "\u001b[2K     \u001b[90m━━━━━━━━━━━━━━━━━━━━━━━━━━━━━━━━━━━━━━━━\u001b[0m \u001b[32m58.3/58.3 kB\u001b[0m \u001b[31m4.6 MB/s\u001b[0m eta \u001b[36m0:00:00\u001b[0m\n",
            "\u001b[2K     \u001b[90m━━━━━━━━━━━━━━━━━━━━━━━━━━━━━━━━━━━━━━━━\u001b[0m \u001b[32m67.0/67.0 kB\u001b[0m \u001b[31m5.8 MB/s\u001b[0m eta \u001b[36m0:00:00\u001b[0m\n",
            "\u001b[2K     \u001b[90m━━━━━━━━━━━━━━━━━━━━━━━━━━━━━━━━━━━━━━━━\u001b[0m \u001b[32m74.5/74.5 kB\u001b[0m \u001b[31m6.2 MB/s\u001b[0m eta \u001b[36m0:00:00\u001b[0m\n",
            "\u001b[?25h  Building wheel for ffmpy (setup.py) ... \u001b[?25l\u001b[?25hdone\n"
          ]
        }
      ],
      "source": [
        "!pip install -q gradio"
      ]
    },
    {
      "cell_type": "markdown",
      "metadata": {
        "id": "leP6ofuqqr_l"
      },
      "source": [
        "#Database"
      ]
    },
    {
      "cell_type": "code",
      "execution_count": null,
      "metadata": {
        "id": "FL0BZDJaqvsA"
      },
      "outputs": [],
      "source": [
        "def data_base():\n",
        "\n",
        "  #sustainable topic\n",
        "  #short question short response\n",
        "  q111=\"How can renewable energy be integrated into the energy grid?\"\n",
        "  r111=\"By constructing renewable energy infrastructure, establishing smart grids, implementing energy storage technologies, incentivizing renewable energy production, and updating grid infrastructure\"\n",
        "  q112=\"How can cities become more sustainable?\"\n",
        "  r112=\"By investing in public transportation, promoting walkability and cycling, adopting energy-efficient building codes, implementing waste reduction programs, preserving green spaces, and supporting local food systems.\"\n",
        "  q113=\"What is the concept of the circular economy?\"\n",
        "  r113=\"The circular economy minimizes waste, maximizes resource efficiency, and promotes product/material circulation through recycling, reusing, and remanufacturing.\"\n",
        "  q114=\"What is sustainable fashion?\"\n",
        "  r114=\"Sustainable fashion entails environmentally and socially responsible practices in clothing production, consumption, and disposal, including ethical sourcing, fair labor, and reduced environmental impact.\"\n",
        "\n",
        "  #short question longer response\n",
        "  q121=\"What is the role of businesses in promoting sustainability?\"\n",
        "  r121=\"Businesses play a crucial role in promoting sustainability by integrating eco-friendly practices. They reduce their environmental footprint through energy efficiency, sustainable sourcing, waste minimization, and renewable energy. Developing sustainable products, promoting transparency, and ethics, and engaging in corporate social responsibility initiatives contribute to sustainability.\"\n",
        "  q122=\"How does sustainable fashion promote environmental and social responsibility?\"\n",
        "  r122=\"Sustainable fashion promotes environmental and social responsibility by addressing negative impacts throughout the supply chain. It uses eco-friendly materials, reduces water and energy consumption, minimizes waste through recycling, and ensures fair labor practices. Ethical sourcing, transparency, and safe working conditions are prioritized. Supporting sustainable fashion reduces pollution, conserves resources, and promotes social justice.\"\n",
        "  q123=\"What are the benefits of recycling?\"\n",
        "  r123=\"Recycling is crucial for conserving resources, reducing energy consumption, minimizing landfill waste, lowering emissions, and supporting the circular economy. It promotes sustainability and resource efficiency by diverting waste, encouraging reuse and recycling. By reducing raw material extraction and energy use, recycling contributes to a greener and more sustainable future for the environment and society.\"\n",
        "  q124=\"What is the concept of a zero-waste lifestyle?\"\n",
        "  r124=\"A zero-waste lifestyle minimizes waste through sustainable practices, including reducing, reusing, and recycling. It promotes sustainable consumption, composting, reusable products, and minimal packaging. By prioritizing durable items, repurposing goods, and composting organic waste, individuals can minimize environmental impact and work towards a waste-free future.\"\n",
        "\n",
        "  #longer question short response\n",
        "  q131=\"How can sustainable urban planning address challenges such as population growth, infrastructure needs, and environmental impacts?\"\n",
        "  r131=\"Sustainable urban planning tackles these challenges through compact land use, efficient transportation, green infrastructure, energy-efficient buildings, waste management, and open space preservation.\"\n",
        "  q132=\"What are the main factors that contribute to deforestation and what is its environmental impact?\"\n",
        "  r132=\"Deforestation is caused by agriculture, logging, infrastructure development, and urbanization, leading to environmental impacts. Solutions include sustainable land-use practices and forest protection.\"\n",
        "  q133=\"Can you provide me with a short introductory description of what is the Paris Agreement?\"\n",
        "  r133=\"The Paris Agreement, adopted in 2015, aims to combat climate change by limiting global warming to below 2 degrees Celsius above pre-industrial levels.\"\n",
        "  q134=\"What are the various ways in which sustainable transportation strategies and initiatives contribute to the overall promotion of environmental sustainability?\"\n",
        "  r134=\"Sustainable transportation, like public transit, cycling, walking, and electric vehicles, reduces carbon emissions by promoting cleaner modes of transportation and reducing reliance on fossil fuel-powered vehicles.\"\n",
        "\n",
        "  #longer question longer response\n",
        "  q141=\"How does climate change affect vulnerable communities and what can be done to address their specific needs?\"\n",
        "  r141=\"Climate change disproportionately impacts vulnerable communities in low-income areas, coastal regions, and developing countries. Limited resources, infrastructure, and healthcare access increase their vulnerability. It worsens inequalities, intensifies natural disasters, affects water and food security, and leads to displacement. Addressing their needs involves climate adaptation, financial assistance, resilience-building, improved infrastructure, and equitable resource access.\"\n",
        "  q142=\"How do sustainable consumption and production contribute to reducing environmental degradation and promoting a more equitable global economy?\"\n",
        "  r142=\"Sustainable consumption and production reduce environmental degradation through efficient resource use, waste reduction, and eco-friendly practices. They promote sustainable production, shift consumer demand towards eco-friendly choices, and consider social and economic aspects. This fosters fair trade, ethical labor practices, and inclusion. In summary, sustainable consumption and production optimize resources, minimize waste, and promote equity, benefiting the environment and society.\"\n",
        "  q143=\"What are some of the key challenges and obstacles that need to be overcome in order to achieve effective and sustainable water management practices?\"\n",
        "  r143=\"The main challenges in achieving sustainable water management include water scarcity, pollution, inadequate infrastructure, population growth, and the need for efficient allocation, conservation, and equitable access to water resources. Addressing these challenges requires integrated water resource management, improved infrastructure, effective policies, technological innovations, and stakeholder collaboration to ensure sustainable and equitable water management for present and future generations.\"\n",
        "  q144=\"What are the ways in which sustainable tourism practices contribute to the well-being of local communities, the preservation of natural resources, and the protection of the environment?\"\n",
        "  r144=\"Sustainable tourism benefits local communities by supporting the economy, creating jobs, and promoting community development. It minimizes environmental impacts through responsible travel, conservation of resources, and protection of ecosystems. By embracing sustainable practices, tourism can contribute to the well-being of both communities and the environment.\"\n",
        "\n",
        "  #history topic\n",
        "  #short question short response\n",
        "  q211=\"Who was the first President of the United States?\"\n",
        "  r211=\"George Washington.\"\n",
        "  q212=\"What were the main causes of World War I?\"\n",
        "  r212=\"Nationalism, militarism, imperialism, and the complex system of alliances were the main causes of World War I.\"\n",
        "  q213=\"Who was the founder of Buddhism?\"\n",
        "  r213=\"Siddhartha Gautama.\"\n",
        "  q214=\"Who was the first emperor of ancient Rome?\"\n",
        "  r214=\"Caesar Augustus.\"\n",
        "\n",
        "  #short question longer response\n",
        "  q221=\"What were the main causes of the American Revolutionary War?\"\n",
        "  r221=\"The American Revolutionary War, fought from 1775 to 1783, was primarily caused by colonial grievances against British rule, including taxation without representation, restrictions on trade, and violations of individual rights. The ideas of Enlightenment thinkers also influenced the desire for independence.\"\n",
        "  q222=\"What were the main causes of the Russian Revolution in 1917?\"\n",
        "  r222=\"The Russian Revolution of 1917 was primarily caused by economic inequality, political discontent, and the impact of World War I. Widespread poverty, food shortages, and the autocratic rule of Tsar Nicholas II led to revolutionary fervor among the Russian people, resulting in the overthrow of the monarchy and the establishment of a communist government.\"\n",
        "  q223=\"What was the significance of the Magna Carta?\"\n",
        "  r223=\"The Magna Carta, signed in 1215, was a historic document that limited the power of the English monarchy and established certain rights for the English nobility. It is often considered a cornerstone of constitutional law, as it laid the foundation for the idea of individual rights and the rule of law.\"\n",
        "  q224=\"What were the major causes of the French Revolution?\"\n",
        "  r224=\"The French Revolution (1789-1799) resulted from social inequality, financial crisis, and political discontent. The rigid social structure, poverty, and debt led to resentment. Enlightenment ideals of rights, equality, and popular sovereignty also influenced the revolution, challenging the privileged nobility and clergy.\"\n",
        "\n",
        "  #longer question short response\n",
        "  q231=\"What impact did the invention of the printing press have on European society?\"\n",
        "  r231=\"Gutenberg's printing press transformed Europe with literacy, idea spread, language standardization, and knowledge sharing.\"\n",
        "  q232=\"How did the Scientific Revolution in the 16th and 17th centuries transform the way people understood the natural world?\"\n",
        "  r232=\"The Scientific Revolution challenged beliefs and emphasized observation, experimentation, and math. Establishing modern science's foundations.\"\n",
        "  q233=\"What were the major consequences of the fall of the Roman Empire?\"\n",
        "  r233=\"Consequences of the Roman Empire's fall: power fragmentation, urban decline, loss of governance, and the onset of the Middle Ages.\"\n",
        "  q234=\"What were the main factors that led to the outbreak of World War II?\"\n",
        "  r234=\"Treaty of Versailles, aggressive expansionist policies, appeasement, economic instability, and the rise of totalitarian regimes.\"\n",
        "\n",
        "  #longer question longer response\n",
        "  q241=\"How did the Scramble for Africa contribute to European imperialism in the late 19th and early 20th centuries?\"\n",
        "  r241=\"The Scramble for Africa in the late 19th and early 20th centuries involved rapid colonization driven by economic interests, raw materials, nationalism, and the civilizing mission ideology. The Berlin Conference formalized Africa's division, leading to resource exploitation, political control, societal disruption, and a lasting colonial legacy.\"\n",
        "  q242=\"How did the colonization of the Americas impact indigenous populations, cultures, and societies?\"\n",
        "  r242=\"Colonization of the Americas caused displacement, enslavement, and extermination of indigenous peoples. Native cultures were suppressed, lands seized, and diseases introduced. Warfare and forced labor worsened their decline. The legacy persists in indigenous communities' social, economic conditions, land rights, and cultural preservation struggles.\"\n",
        "  q243=\"How did the Industrial Revolution impact society and economy in the 19th century?\"\n",
        "  r243=\"The Industrial Revolution, from the late 18th to 19th century, transformed society and the economy. It boosted productivity and urbanization through machine production, but also led to inequality, poor working conditions, and labor movements. It laid the foundation for modern capitalism and technological advancements.\"\n",
        "  q244=\"How did the Cold War shape global politics and the conflict between the United States and the Soviet Union?\"\n",
        "  r244=\"The Cold War (1947-1991) was a period of intense geopolitical tension between the United States and the Soviet Union. It shaped global politics through alliances, nuclear weapons, and proxy wars, and influenced culture. The Cold War ended with the Soviet Union's collapse, marking the United States' victory.\"\n",
        "\n",
        "  question_list=[\n",
        "      q111,q112,q113,q114,\n",
        "      q121,q122,q123,q124,\n",
        "      q131,q132,q133,q134,\n",
        "      q141,q142,q143,q144,\n",
        "      q211,q212,q213,q214,\n",
        "      q221,q222,q223,q224,\n",
        "      q231,q232,q233,q234,\n",
        "      q241,q242,q243,q244\n",
        "  ]\n",
        "\n",
        "  response_list=[\n",
        "      r111,r112,r113,r114,\n",
        "      r121,r122,r123,r124,\n",
        "      r131,r132,r133,r134,\n",
        "      r141,r142,r143,r144,\n",
        "      r211,r212,r213,r214,\n",
        "      r221,r222,r223,r224,\n",
        "      r231,r232,r233,r234,\n",
        "      r241,r242,r243,r244\n",
        "  ]\n",
        "\n",
        "  return question_list, response_list\n"
      ]
    },
    {
      "cell_type": "markdown",
      "metadata": {
        "id": "_miZNQ2v9qWX"
      },
      "source": [
        "# random explain"
      ]
    },
    {
      "cell_type": "code",
      "execution_count": null,
      "metadata": {
        "id": "ccPhXSswyDgX"
      },
      "outputs": [],
      "source": [
        "def chatbot_explanation(input, output):\n",
        "\n",
        "  #history = history or []\n",
        "  time.sleep(0.3)\n",
        "  global history\n",
        "  global i\n",
        "  global random_list\n",
        "  global count\n",
        "\n",
        "  #count is for count current explanation printing time, <3 means hasn't got 3 times, if count = 3 reset count to 0.\n",
        "  if count < 3:\n",
        "    count += 1\n",
        "    print(i,count,random_list)\n",
        "    #define the explanation based on the status of i\n",
        "    if i<3:\n",
        "      history.append([None, None])\n",
        "\n",
        "    elif 3 <= i < 6:\n",
        "      explanation = \"Retrieving the answer.\"\n",
        "      history.append([None, explanation])\n",
        "\n",
        "    elif 6 <= i < 9:\n",
        "      explanation = \"I am retrieving the answer for you.\"\n",
        "      history.append([None, explanation])\n",
        "\n",
        "    elif 9 <= i < 12:\n",
        "      explanation = \"Searching in the knowledge base for the answer that matches the question intent most.\"\n",
        "      history.append([None, explanation])\n",
        "\n",
        "    elif 12 <= i < 15:\n",
        "      explanation = \"I am searching in my knowledge base for the answer that matches your question intent most.\"\n",
        "      history.append([None, explanation])\n",
        "\n",
        "    elif 15 <= i < 18:\n",
        "      explanation = '''I'm like a witty librarian in my knowledge base, searching for the answer that fits your question like a puzzle piece.'''\n",
        "      history.append([None, explanation])\n",
        "\n",
        "  else:\n",
        "    count = 1\n",
        "    #check if random_list is [], if [] then reset a new random_list\n",
        "    if random_list != []:\n",
        "      i=random_list[-1]*3\n",
        "      random_list.pop(-1)\n",
        "      print(i,count,random_list)\n",
        "    else:\n",
        "      random_list = random.sample(range(1, 6), 5)\n",
        "      i=random_list[-1]*3\n",
        "      random_list.pop(-1)\n",
        "      print(i,count,random_list)\n",
        "\n",
        "    #define the explanation based on the new i\n",
        "    if i<3:\n",
        "      history.append([None, None])\n",
        "\n",
        "    elif 3 <= i < 6:\n",
        "      explanation = \"Retrieving the answer.\"\n",
        "      history.append([None, explanation])\n",
        "\n",
        "    elif 6 <= i < 9:\n",
        "      explanation = \"I am retrieving the answer for you.\"\n",
        "      history.append([None, explanation])\n",
        "\n",
        "    elif 9 <= i < 12:\n",
        "      explanation = \"Searching in the knowledge base for the answer that matches the question intent most.\"\n",
        "      history.append([None, explanation])\n",
        "\n",
        "    elif 12 <= i < 15:\n",
        "      explanation = \"I am searching in my knowledge base for the answer that matches your question intent most.\"\n",
        "      history.append([None, explanation])\n",
        "\n",
        "    elif 15 <= i < 18:\n",
        "      explanation = '''I'm like a witty librarian in my knowledge base, searching for the answer that fits your question like a puzzle piece.'''\n",
        "      history.append([None, explanation])\n",
        "\n",
        "\n",
        "  return history, history\n",
        "\n",
        "\n",
        "def chatbot_reset (input, output):\n",
        "  global history\n",
        "  history = []\n",
        "\n",
        "  return history, history"
      ]
    },
    {
      "cell_type": "markdown",
      "metadata": {
        "id": "RwirsnMVGbk_"
      },
      "source": [
        "#Fuctions"
      ]
    },
    {
      "cell_type": "code",
      "execution_count": null,
      "metadata": {
        "id": "YKu27HCGGdWp"
      },
      "outputs": [],
      "source": [
        "def chatbot_input_printing(input, output):\n",
        "  global history\n",
        "  history.append([input, None])\n",
        "  return history, history\n",
        "\n",
        "def chatbot_response(input, output):\n",
        "\n",
        "  #history = history or []\n",
        "  global history\n",
        "  global question_list\n",
        "  print(question_list,\"test\")\n",
        "  response_delay = 0\n",
        "  response = \"\"\n",
        "\n",
        "  if input in question_list:\n",
        "    index = question_list.index(input)\n",
        "    response = response_list[index]\n",
        "    time.sleep(0.5)\n",
        "  else:\n",
        "    response = \"Nothing out from there, please provide me the right question.\"\n",
        "    time.sleep(0.5)\n",
        "\n",
        "  history.append([None,response])\n",
        "\n",
        "  return history, history\n",
        "\n",
        "\n",
        "def chose_question():\n",
        "  global questions, question_list\n",
        "  question=random.choice(questions)\n",
        "  questions.remove(question)\n",
        "  if questions == []:\n",
        "    questions = question_list.copy()\n",
        "\n",
        "  return question\n",
        "\n"
      ]
    },
    {
      "cell_type": "markdown",
      "metadata": {
        "id": "htGeheSBsFg8"
      },
      "source": [
        "#Launching"
      ]
    },
    {
      "cell_type": "code",
      "execution_count": null,
      "metadata": {
        "colab": {
          "base_uri": "https://localhost:8080/",
          "height": 1000
        },
        "id": "RszPVL8RsNqe",
        "outputId": "0d3dc591-3018-4773-eb66-da5291779e61"
      },
      "outputs": [
        {
          "output_type": "stream",
          "name": "stderr",
          "text": [
            "<ipython-input-5-3e652491c277>:20: GradioUnusedKwargWarning: You have unused kwarg parameters in Chatbot, please remove them: {'lines': 4}\n",
            "  chatbot = gr.Chatbot(lines=4)\n",
            "<ipython-input-5-3e652491c277>:21: GradioUnusedKwargWarning: You have unused kwarg parameters in Textbox, please remove them: {'timer': False}\n",
            "  message = gr.Textbox(lines=2,placeholder=\"Message here...\",timer=False)\n",
            "/usr/local/lib/python3.10/dist-packages/gradio/utils.py:833: UserWarning: Expected 1 arguments for function <function <lambda> at 0x7ac600e820e0>, received 0.\n",
            "  warnings.warn(\n",
            "/usr/local/lib/python3.10/dist-packages/gradio/utils.py:837: UserWarning: Expected at least 1 arguments for function <function <lambda> at 0x7ac600e820e0>, received 0.\n",
            "  warnings.warn(\n",
            "/usr/local/lib/python3.10/dist-packages/gradio/utils.py:833: UserWarning: Expected 1 arguments for function <function <lambda> at 0x7ac600e83d90>, received 0.\n",
            "  warnings.warn(\n",
            "/usr/local/lib/python3.10/dist-packages/gradio/utils.py:837: UserWarning: Expected at least 1 arguments for function <function <lambda> at 0x7ac600e83d90>, received 0.\n",
            "  warnings.warn(\n"
          ]
        },
        {
          "output_type": "stream",
          "name": "stdout",
          "text": [
            "Colab notebook detected. This cell will run indefinitely so that you can see errors and logs. To turn off, set debug=False in launch().\n",
            "Note: opening Chrome Inspector may crash demo inside Colab notebooks.\n",
            "\n",
            "To create a public link, set `share=True` in `launch()`.\n"
          ]
        },
        {
          "output_type": "display_data",
          "data": {
            "text/plain": [
              "<IPython.core.display.Javascript object>"
            ],
            "application/javascript": [
              "(async (port, path, width, height, cache, element) => {\n",
              "                        if (!google.colab.kernel.accessAllowed && !cache) {\n",
              "                            return;\n",
              "                        }\n",
              "                        element.appendChild(document.createTextNode(''));\n",
              "                        const url = await google.colab.kernel.proxyPort(port, {cache});\n",
              "\n",
              "                        const external_link = document.createElement('div');\n",
              "                        external_link.innerHTML = `\n",
              "                            <div style=\"font-family: monospace; margin-bottom: 0.5rem\">\n",
              "                                Running on <a href=${new URL(path, url).toString()} target=\"_blank\">\n",
              "                                    https://localhost:${port}${path}\n",
              "                                </a>\n",
              "                            </div>\n",
              "                        `;\n",
              "                        element.appendChild(external_link);\n",
              "\n",
              "                        const iframe = document.createElement('iframe');\n",
              "                        iframe.src = new URL(path, url).toString();\n",
              "                        iframe.height = height;\n",
              "                        iframe.allow = \"autoplay; camera; microphone; clipboard-read; clipboard-write;\"\n",
              "                        iframe.width = width;\n",
              "                        iframe.style.border = 0;\n",
              "                        element.appendChild(iframe);\n",
              "                    })(7860, \"/\", \"100%\", 500, false, window.element)"
            ]
          },
          "metadata": {}
        },
        {
          "output_type": "stream",
          "name": "stderr",
          "text": [
            "/usr/local/lib/python3.10/dist-packages/gradio/helpers.py:710: UserWarning: Unexpected argument. Filling with None.\n",
            "  warnings.warn(\"Unexpected argument. Filling with None.\")\n"
          ]
        },
        {
          "output_type": "stream",
          "name": "stdout",
          "text": [
            "['How can renewable energy be integrated into the energy grid?', 'How can cities become more sustainable?', 'What is the concept of the circular economy?', 'What is sustainable fashion?', 'What is the role of businesses in promoting sustainability?', 'How does sustainable fashion promote environmental and social responsibility?', 'What are the benefits of recycling?', 'What is the concept of a zero-waste lifestyle?', 'How can sustainable urban planning address challenges such as population growth, infrastructure needs, and environmental impacts?', 'What are the main factors that contribute to deforestation and what is its environmental impact?', 'Can you provide me with a short introductory description of what is the Paris Agreement?', 'What are the various ways in which sustainable transportation strategies and initiatives contribute to the overall promotion of environmental sustainability?', 'How does climate change affect vulnerable communities and what can be done to address their specific needs?', 'How do sustainable consumption and production contribute to reducing environmental degradation and promoting a more equitable global economy?', 'What are some of the key challenges and obstacles that need to be overcome in order to achieve effective and sustainable water management practices?', 'What are the ways in which sustainable tourism practices contribute to the well-being of local communities, the preservation of natural resources, and the protection of the environment?', 'Who was the first President of the United States?', 'What were the main causes of World War I?', 'Who was the founder of Buddhism?', 'Who was the first emperor of ancient Rome?', 'What were the main causes of the American Revolutionary War?', 'What were the main causes of the Russian Revolution in 1917?', 'What was the significance of the Magna Carta?', 'What were the major causes of the French Revolution?', 'What impact did the invention of the printing press have on European society?', 'How did the Scientific Revolution in the 16th and 17th centuries transform the way people understood the natural world?', 'What were the major consequences of the fall of the Roman Empire?', 'What were the main factors that led to the outbreak of World War II?', 'How did the Scramble for Africa contribute to European imperialism in the late 19th and early 20th centuries?', 'How did the colonization of the Americas impact indigenous populations, cultures, and societies?', 'How did the Industrial Revolution impact society and economy in the 19th century?', 'How did the Cold War shape global politics and the conflict between the United States and the Soviet Union?'] test\n",
            "0 1 [5, 2, 3, 1, 4]\n",
            "['How can renewable energy be integrated into the energy grid?', 'How can cities become more sustainable?', 'What is the concept of the circular economy?', 'What is sustainable fashion?', 'What is the role of businesses in promoting sustainability?', 'How does sustainable fashion promote environmental and social responsibility?', 'What are the benefits of recycling?', 'What is the concept of a zero-waste lifestyle?', 'How can sustainable urban planning address challenges such as population growth, infrastructure needs, and environmental impacts?', 'What are the main factors that contribute to deforestation and what is its environmental impact?', 'Can you provide me with a short introductory description of what is the Paris Agreement?', 'What are the various ways in which sustainable transportation strategies and initiatives contribute to the overall promotion of environmental sustainability?', 'How does climate change affect vulnerable communities and what can be done to address their specific needs?', 'How do sustainable consumption and production contribute to reducing environmental degradation and promoting a more equitable global economy?', 'What are some of the key challenges and obstacles that need to be overcome in order to achieve effective and sustainable water management practices?', 'What are the ways in which sustainable tourism practices contribute to the well-being of local communities, the preservation of natural resources, and the protection of the environment?', 'Who was the first President of the United States?', 'What were the main causes of World War I?', 'Who was the founder of Buddhism?', 'Who was the first emperor of ancient Rome?', 'What were the main causes of the American Revolutionary War?', 'What were the main causes of the Russian Revolution in 1917?', 'What was the significance of the Magna Carta?', 'What were the major causes of the French Revolution?', 'What impact did the invention of the printing press have on European society?', 'How did the Scientific Revolution in the 16th and 17th centuries transform the way people understood the natural world?', 'What were the major consequences of the fall of the Roman Empire?', 'What were the main factors that led to the outbreak of World War II?', 'How did the Scramble for Africa contribute to European imperialism in the late 19th and early 20th centuries?', 'How did the colonization of the Americas impact indigenous populations, cultures, and societies?', 'How did the Industrial Revolution impact society and economy in the 19th century?', 'How did the Cold War shape global politics and the conflict between the United States and the Soviet Union?'] test\n",
            "0 2 [5, 2, 3, 1, 4]\n",
            "['How can renewable energy be integrated into the energy grid?', 'How can cities become more sustainable?', 'What is the concept of the circular economy?', 'What is sustainable fashion?', 'What is the role of businesses in promoting sustainability?', 'How does sustainable fashion promote environmental and social responsibility?', 'What are the benefits of recycling?', 'What is the concept of a zero-waste lifestyle?', 'How can sustainable urban planning address challenges such as population growth, infrastructure needs, and environmental impacts?', 'What are the main factors that contribute to deforestation and what is its environmental impact?', 'Can you provide me with a short introductory description of what is the Paris Agreement?', 'What are the various ways in which sustainable transportation strategies and initiatives contribute to the overall promotion of environmental sustainability?', 'How does climate change affect vulnerable communities and what can be done to address their specific needs?', 'How do sustainable consumption and production contribute to reducing environmental degradation and promoting a more equitable global economy?', 'What are some of the key challenges and obstacles that need to be overcome in order to achieve effective and sustainable water management practices?', 'What are the ways in which sustainable tourism practices contribute to the well-being of local communities, the preservation of natural resources, and the protection of the environment?', 'Who was the first President of the United States?', 'What were the main causes of World War I?', 'Who was the founder of Buddhism?', 'Who was the first emperor of ancient Rome?', 'What were the main causes of the American Revolutionary War?', 'What were the main causes of the Russian Revolution in 1917?', 'What was the significance of the Magna Carta?', 'What were the major causes of the French Revolution?', 'What impact did the invention of the printing press have on European society?', 'How did the Scientific Revolution in the 16th and 17th centuries transform the way people understood the natural world?', 'What were the major consequences of the fall of the Roman Empire?', 'What were the main factors that led to the outbreak of World War II?', 'How did the Scramble for Africa contribute to European imperialism in the late 19th and early 20th centuries?', 'How did the colonization of the Americas impact indigenous populations, cultures, and societies?', 'How did the Industrial Revolution impact society and economy in the 19th century?', 'How did the Cold War shape global politics and the conflict between the United States and the Soviet Union?'] test\n",
            "0 3 [5, 2, 3, 1, 4]\n",
            "['How can renewable energy be integrated into the energy grid?', 'How can cities become more sustainable?', 'What is the concept of the circular economy?', 'What is sustainable fashion?', 'What is the role of businesses in promoting sustainability?', 'How does sustainable fashion promote environmental and social responsibility?', 'What are the benefits of recycling?', 'What is the concept of a zero-waste lifestyle?', 'How can sustainable urban planning address challenges such as population growth, infrastructure needs, and environmental impacts?', 'What are the main factors that contribute to deforestation and what is its environmental impact?', 'Can you provide me with a short introductory description of what is the Paris Agreement?', 'What are the various ways in which sustainable transportation strategies and initiatives contribute to the overall promotion of environmental sustainability?', 'How does climate change affect vulnerable communities and what can be done to address their specific needs?', 'How do sustainable consumption and production contribute to reducing environmental degradation and promoting a more equitable global economy?', 'What are some of the key challenges and obstacles that need to be overcome in order to achieve effective and sustainable water management practices?', 'What are the ways in which sustainable tourism practices contribute to the well-being of local communities, the preservation of natural resources, and the protection of the environment?', 'Who was the first President of the United States?', 'What were the main causes of World War I?', 'Who was the founder of Buddhism?', 'Who was the first emperor of ancient Rome?', 'What were the main causes of the American Revolutionary War?', 'What were the main causes of the Russian Revolution in 1917?', 'What was the significance of the Magna Carta?', 'What were the major causes of the French Revolution?', 'What impact did the invention of the printing press have on European society?', 'How did the Scientific Revolution in the 16th and 17th centuries transform the way people understood the natural world?', 'What were the major consequences of the fall of the Roman Empire?', 'What were the main factors that led to the outbreak of World War II?', 'How did the Scramble for Africa contribute to European imperialism in the late 19th and early 20th centuries?', 'How did the colonization of the Americas impact indigenous populations, cultures, and societies?', 'How did the Industrial Revolution impact society and economy in the 19th century?', 'How did the Cold War shape global politics and the conflict between the United States and the Soviet Union?'] test\n",
            "12 1 [5, 2, 3, 1]\n",
            "['How can renewable energy be integrated into the energy grid?', 'How can cities become more sustainable?', 'What is the concept of the circular economy?', 'What is sustainable fashion?', 'What is the role of businesses in promoting sustainability?', 'How does sustainable fashion promote environmental and social responsibility?', 'What are the benefits of recycling?', 'What is the concept of a zero-waste lifestyle?', 'How can sustainable urban planning address challenges such as population growth, infrastructure needs, and environmental impacts?', 'What are the main factors that contribute to deforestation and what is its environmental impact?', 'Can you provide me with a short introductory description of what is the Paris Agreement?', 'What are the various ways in which sustainable transportation strategies and initiatives contribute to the overall promotion of environmental sustainability?', 'How does climate change affect vulnerable communities and what can be done to address their specific needs?', 'How do sustainable consumption and production contribute to reducing environmental degradation and promoting a more equitable global economy?', 'What are some of the key challenges and obstacles that need to be overcome in order to achieve effective and sustainable water management practices?', 'What are the ways in which sustainable tourism practices contribute to the well-being of local communities, the preservation of natural resources, and the protection of the environment?', 'Who was the first President of the United States?', 'What were the main causes of World War I?', 'Who was the founder of Buddhism?', 'Who was the first emperor of ancient Rome?', 'What were the main causes of the American Revolutionary War?', 'What were the main causes of the Russian Revolution in 1917?', 'What was the significance of the Magna Carta?', 'What were the major causes of the French Revolution?', 'What impact did the invention of the printing press have on European society?', 'How did the Scientific Revolution in the 16th and 17th centuries transform the way people understood the natural world?', 'What were the major consequences of the fall of the Roman Empire?', 'What were the main factors that led to the outbreak of World War II?', 'How did the Scramble for Africa contribute to European imperialism in the late 19th and early 20th centuries?', 'How did the colonization of the Americas impact indigenous populations, cultures, and societies?', 'How did the Industrial Revolution impact society and economy in the 19th century?', 'How did the Cold War shape global politics and the conflict between the United States and the Soviet Union?'] test\n",
            "12 2 [5, 2, 3, 1]\n",
            "['How can renewable energy be integrated into the energy grid?', 'How can cities become more sustainable?', 'What is the concept of the circular economy?', 'What is sustainable fashion?', 'What is the role of businesses in promoting sustainability?', 'How does sustainable fashion promote environmental and social responsibility?', 'What are the benefits of recycling?', 'What is the concept of a zero-waste lifestyle?', 'How can sustainable urban planning address challenges such as population growth, infrastructure needs, and environmental impacts?', 'What are the main factors that contribute to deforestation and what is its environmental impact?', 'Can you provide me with a short introductory description of what is the Paris Agreement?', 'What are the various ways in which sustainable transportation strategies and initiatives contribute to the overall promotion of environmental sustainability?', 'How does climate change affect vulnerable communities and what can be done to address their specific needs?', 'How do sustainable consumption and production contribute to reducing environmental degradation and promoting a more equitable global economy?', 'What are some of the key challenges and obstacles that need to be overcome in order to achieve effective and sustainable water management practices?', 'What are the ways in which sustainable tourism practices contribute to the well-being of local communities, the preservation of natural resources, and the protection of the environment?', 'Who was the first President of the United States?', 'What were the main causes of World War I?', 'Who was the founder of Buddhism?', 'Who was the first emperor of ancient Rome?', 'What were the main causes of the American Revolutionary War?', 'What were the main causes of the Russian Revolution in 1917?', 'What was the significance of the Magna Carta?', 'What were the major causes of the French Revolution?', 'What impact did the invention of the printing press have on European society?', 'How did the Scientific Revolution in the 16th and 17th centuries transform the way people understood the natural world?', 'What were the major consequences of the fall of the Roman Empire?', 'What were the main factors that led to the outbreak of World War II?', 'How did the Scramble for Africa contribute to European imperialism in the late 19th and early 20th centuries?', 'How did the colonization of the Americas impact indigenous populations, cultures, and societies?', 'How did the Industrial Revolution impact society and economy in the 19th century?', 'How did the Cold War shape global politics and the conflict between the United States and the Soviet Union?'] test\n",
            "12 3 [5, 2, 3, 1]\n",
            "['How can renewable energy be integrated into the energy grid?', 'How can cities become more sustainable?', 'What is the concept of the circular economy?', 'What is sustainable fashion?', 'What is the role of businesses in promoting sustainability?', 'How does sustainable fashion promote environmental and social responsibility?', 'What are the benefits of recycling?', 'What is the concept of a zero-waste lifestyle?', 'How can sustainable urban planning address challenges such as population growth, infrastructure needs, and environmental impacts?', 'What are the main factors that contribute to deforestation and what is its environmental impact?', 'Can you provide me with a short introductory description of what is the Paris Agreement?', 'What are the various ways in which sustainable transportation strategies and initiatives contribute to the overall promotion of environmental sustainability?', 'How does climate change affect vulnerable communities and what can be done to address their specific needs?', 'How do sustainable consumption and production contribute to reducing environmental degradation and promoting a more equitable global economy?', 'What are some of the key challenges and obstacles that need to be overcome in order to achieve effective and sustainable water management practices?', 'What are the ways in which sustainable tourism practices contribute to the well-being of local communities, the preservation of natural resources, and the protection of the environment?', 'Who was the first President of the United States?', 'What were the main causes of World War I?', 'Who was the founder of Buddhism?', 'Who was the first emperor of ancient Rome?', 'What were the main causes of the American Revolutionary War?', 'What were the main causes of the Russian Revolution in 1917?', 'What was the significance of the Magna Carta?', 'What were the major causes of the French Revolution?', 'What impact did the invention of the printing press have on European society?', 'How did the Scientific Revolution in the 16th and 17th centuries transform the way people understood the natural world?', 'What were the major consequences of the fall of the Roman Empire?', 'What were the main factors that led to the outbreak of World War II?', 'How did the Scramble for Africa contribute to European imperialism in the late 19th and early 20th centuries?', 'How did the colonization of the Americas impact indigenous populations, cultures, and societies?', 'How did the Industrial Revolution impact society and economy in the 19th century?', 'How did the Cold War shape global politics and the conflict between the United States and the Soviet Union?'] test\n",
            "3 1 [5, 2, 3]\n",
            "['How can renewable energy be integrated into the energy grid?', 'How can cities become more sustainable?', 'What is the concept of the circular economy?', 'What is sustainable fashion?', 'What is the role of businesses in promoting sustainability?', 'How does sustainable fashion promote environmental and social responsibility?', 'What are the benefits of recycling?', 'What is the concept of a zero-waste lifestyle?', 'How can sustainable urban planning address challenges such as population growth, infrastructure needs, and environmental impacts?', 'What are the main factors that contribute to deforestation and what is its environmental impact?', 'Can you provide me with a short introductory description of what is the Paris Agreement?', 'What are the various ways in which sustainable transportation strategies and initiatives contribute to the overall promotion of environmental sustainability?', 'How does climate change affect vulnerable communities and what can be done to address their specific needs?', 'How do sustainable consumption and production contribute to reducing environmental degradation and promoting a more equitable global economy?', 'What are some of the key challenges and obstacles that need to be overcome in order to achieve effective and sustainable water management practices?', 'What are the ways in which sustainable tourism practices contribute to the well-being of local communities, the preservation of natural resources, and the protection of the environment?', 'Who was the first President of the United States?', 'What were the main causes of World War I?', 'Who was the founder of Buddhism?', 'Who was the first emperor of ancient Rome?', 'What were the main causes of the American Revolutionary War?', 'What were the main causes of the Russian Revolution in 1917?', 'What was the significance of the Magna Carta?', 'What were the major causes of the French Revolution?', 'What impact did the invention of the printing press have on European society?', 'How did the Scientific Revolution in the 16th and 17th centuries transform the way people understood the natural world?', 'What were the major consequences of the fall of the Roman Empire?', 'What were the main factors that led to the outbreak of World War II?', 'How did the Scramble for Africa contribute to European imperialism in the late 19th and early 20th centuries?', 'How did the colonization of the Americas impact indigenous populations, cultures, and societies?', 'How did the Industrial Revolution impact society and economy in the 19th century?', 'How did the Cold War shape global politics and the conflict between the United States and the Soviet Union?'] test\n",
            "3 2 [5, 2, 3]\n",
            "['How can renewable energy be integrated into the energy grid?', 'How can cities become more sustainable?', 'What is the concept of the circular economy?', 'What is sustainable fashion?', 'What is the role of businesses in promoting sustainability?', 'How does sustainable fashion promote environmental and social responsibility?', 'What are the benefits of recycling?', 'What is the concept of a zero-waste lifestyle?', 'How can sustainable urban planning address challenges such as population growth, infrastructure needs, and environmental impacts?', 'What are the main factors that contribute to deforestation and what is its environmental impact?', 'Can you provide me with a short introductory description of what is the Paris Agreement?', 'What are the various ways in which sustainable transportation strategies and initiatives contribute to the overall promotion of environmental sustainability?', 'How does climate change affect vulnerable communities and what can be done to address their specific needs?', 'How do sustainable consumption and production contribute to reducing environmental degradation and promoting a more equitable global economy?', 'What are some of the key challenges and obstacles that need to be overcome in order to achieve effective and sustainable water management practices?', 'What are the ways in which sustainable tourism practices contribute to the well-being of local communities, the preservation of natural resources, and the protection of the environment?', 'Who was the first President of the United States?', 'What were the main causes of World War I?', 'Who was the founder of Buddhism?', 'Who was the first emperor of ancient Rome?', 'What were the main causes of the American Revolutionary War?', 'What were the main causes of the Russian Revolution in 1917?', 'What was the significance of the Magna Carta?', 'What were the major causes of the French Revolution?', 'What impact did the invention of the printing press have on European society?', 'How did the Scientific Revolution in the 16th and 17th centuries transform the way people understood the natural world?', 'What were the major consequences of the fall of the Roman Empire?', 'What were the main factors that led to the outbreak of World War II?', 'How did the Scramble for Africa contribute to European imperialism in the late 19th and early 20th centuries?', 'How did the colonization of the Americas impact indigenous populations, cultures, and societies?', 'How did the Industrial Revolution impact society and economy in the 19th century?', 'How did the Cold War shape global politics and the conflict between the United States and the Soviet Union?'] test\n",
            "3 3 [5, 2, 3]\n",
            "['How can renewable energy be integrated into the energy grid?', 'How can cities become more sustainable?', 'What is the concept of the circular economy?', 'What is sustainable fashion?', 'What is the role of businesses in promoting sustainability?', 'How does sustainable fashion promote environmental and social responsibility?', 'What are the benefits of recycling?', 'What is the concept of a zero-waste lifestyle?', 'How can sustainable urban planning address challenges such as population growth, infrastructure needs, and environmental impacts?', 'What are the main factors that contribute to deforestation and what is its environmental impact?', 'Can you provide me with a short introductory description of what is the Paris Agreement?', 'What are the various ways in which sustainable transportation strategies and initiatives contribute to the overall promotion of environmental sustainability?', 'How does climate change affect vulnerable communities and what can be done to address their specific needs?', 'How do sustainable consumption and production contribute to reducing environmental degradation and promoting a more equitable global economy?', 'What are some of the key challenges and obstacles that need to be overcome in order to achieve effective and sustainable water management practices?', 'What are the ways in which sustainable tourism practices contribute to the well-being of local communities, the preservation of natural resources, and the protection of the environment?', 'Who was the first President of the United States?', 'What were the main causes of World War I?', 'Who was the founder of Buddhism?', 'Who was the first emperor of ancient Rome?', 'What were the main causes of the American Revolutionary War?', 'What were the main causes of the Russian Revolution in 1917?', 'What was the significance of the Magna Carta?', 'What were the major causes of the French Revolution?', 'What impact did the invention of the printing press have on European society?', 'How did the Scientific Revolution in the 16th and 17th centuries transform the way people understood the natural world?', 'What were the major consequences of the fall of the Roman Empire?', 'What were the main factors that led to the outbreak of World War II?', 'How did the Scramble for Africa contribute to European imperialism in the late 19th and early 20th centuries?', 'How did the colonization of the Americas impact indigenous populations, cultures, and societies?', 'How did the Industrial Revolution impact society and economy in the 19th century?', 'How did the Cold War shape global politics and the conflict between the United States and the Soviet Union?'] test\n",
            "9 1 [5, 2]\n"
          ]
        }
      ],
      "source": [
        "import os\n",
        "import gradio as gr\n",
        "import time\n",
        "import random\n",
        "\n",
        "question_list, response_list = data_base()\n",
        "\n",
        "questions = question_list.copy()\n",
        "\n",
        "history = []\n",
        "i=0\n",
        "count=0\n",
        "random_list = random.sample(range(1, 6), 5)\n",
        "\n",
        "\n",
        "block = gr.Blocks()\n",
        "\n",
        "with block:\n",
        "    gr.Markdown(\"\"\"<h1><center>Chatbot 1</center></h1>\"\"\")\n",
        "    chatbot = gr.Chatbot(lines=4)\n",
        "    message = gr.Textbox(lines=2,placeholder=\"Message here...\",timer=False)\n",
        "\n",
        "    state = gr.State()\n",
        "    submit = gr.Button(\"SEND\")\n",
        "\n",
        "\n",
        "    submit.click(chatbot_input_printing, inputs=[message, state], outputs=[chatbot, state])\n",
        "\n",
        "    submit.click(chatbot_explanation, inputs=[message, state], outputs=[chatbot, state])\n",
        "\n",
        "    submit.click(chatbot_response, inputs=[message, state], outputs=[chatbot, state])\n",
        "\n",
        "    submit.click(lambda x: gr.update(value=''), [],[message])\n",
        "\n",
        "\n",
        "    auto_question = gr.Button(\"Provide a question.\")\n",
        "    auto_question.click(lambda x: gr.update(value=chose_question()), [],[message])\n",
        "\n",
        "    clear = gr.Button(\"CLEAR\")\n",
        "    #clear.click(lambda: None, None, chatbot, queue=False)\n",
        "    clear.click(chatbot_reset, inputs=[message, state], outputs=[chatbot, state])\n",
        "\n",
        "\n",
        "\n",
        "block.launch(debug = True)"
      ]
    }
  ],
  "metadata": {
    "colab": {
      "collapsed_sections": [
        "vO6a-gTzqg3H",
        "leP6ofuqqr_l",
        "iIg53nA_6YQO",
        "yhUBxySAvYi6",
        "ZyZlhBiPqM_X",
        "40o2hV5kqxbO",
        "NUp1vWETq1Gi",
        "p2OexQZ6q5Nd",
        "uVdl_mKkYzaw",
        "_miZNQ2v9qWX"
      ],
      "provenance": [],
      "authorship_tag": "ABX9TyO3qh4q4C32VabRTw4x1J1u",
      "include_colab_link": true
    },
    "kernelspec": {
      "display_name": "Python 3",
      "name": "python3"
    },
    "language_info": {
      "name": "python"
    }
  },
  "nbformat": 4,
  "nbformat_minor": 0
}